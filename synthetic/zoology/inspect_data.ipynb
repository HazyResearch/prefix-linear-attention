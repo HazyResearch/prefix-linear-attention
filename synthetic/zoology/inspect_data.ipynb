{
 "cells": [
  {
   "cell_type": "code",
   "execution_count": 1,
   "metadata": {},
   "outputs": [],
   "source": [
    "# add autoreload\n",
    "%load_ext autoreload\n",
    "%autoreload 2"
   ]
  },
  {
   "cell_type": "code",
   "execution_count": 2,
   "metadata": {},
   "outputs": [],
   "source": [
    "import sys\n",
    "sys.path.append(\"/var/cr05_data/sim_data/code/just-read-twice/zoology/data/\")"
   ]
  },
  {
   "cell_type": "code",
   "execution_count": 43,
   "metadata": {},
   "outputs": [
    {
     "name": "stdout",
     "output_type": "stream",
     "text": [
      "causal:  True\n",
      "tensor(1) tensor(-100)\n",
      "tensor(1) tensor(-100)\n",
      "tensor(1) tensor(-100)\n",
      "tensor(1) tensor(-100)\n",
      "tensor(1) tensor(-100)\n",
      "tensor(1) tensor(-100)\n",
      "tensor(1) tensor(-100)\n",
      "tensor(1) tensor(-100)\n",
      "tensor(25) tensor(-100)\n",
      "tensor(7) tensor(-100)\n",
      "tensor(29) tensor(-100)\n",
      "tensor(19) tensor(-100)\n",
      "tensor(3) tensor(-100)\n",
      "tensor(1) tensor(-100)\n",
      "tensor(1) tensor(-100)\n",
      "tensor(1) tensor(-100)\n",
      "tensor(1) tensor(-100)\n",
      "tensor(11) tensor(-100)\n",
      "tensor(5) tensor(-100)\n",
      "tensor(18) tensor(-100)\n",
      "tensor(10) tensor(-100)\n",
      "tensor(9) tensor(-100)\n",
      "tensor(7) tensor(-100)\n",
      "tensor(6) tensor(-100)\n",
      "tensor(27) tensor(-100)\n",
      "tensor(3) tensor(7)\n"
     ]
    }
   ],
   "source": [
    "from non_autoreg import disjoint_sets_fixed\n",
    "\n",
    "vocab_size = 32\n",
    "num_examples = 10\n",
    "\n",
    "short_length = 4\n",
    "long_length = 8\n",
    "causal = True\n",
    "data  = disjoint_sets_fixed(\n",
    "    vocab_size,\n",
    "    num_examples,\n",
    "    short_length,\n",
    "    long_length,\n",
    "    prob_overlap=0.8,\n",
    "    causal=causal,\n",
    "    seed=3,\n",
    "    output_type='intersect_token',\n",
    "    pad_loc=12,\n",
    ")\n",
    "idx=7\n",
    "x= data.inputs[idx]\n",
    "y= data.labels[idx]\n",
    "\n",
    "for i, (_x, _y) in enumerate(zip(x, y)):\n",
    "    print(_x, _y)"
   ]
  },
  {
   "cell_type": "code",
   "execution_count": null,
   "metadata": {},
   "outputs": [],
   "source": []
  },
  {
   "cell_type": "code",
   "execution_count": null,
   "metadata": {},
   "outputs": [],
   "source": []
  },
  {
   "cell_type": "code",
   "execution_count": null,
   "metadata": {},
   "outputs": [],
   "source": []
  },
  {
   "cell_type": "code",
   "execution_count": null,
   "metadata": {},
   "outputs": [],
   "source": []
  }
 ],
 "metadata": {
  "kernelspec": {
   "display_name": "dev",
   "language": "python",
   "name": "python3"
  },
  "language_info": {
   "codemirror_mode": {
    "name": "ipython",
    "version": 3
   },
   "file_extension": ".py",
   "mimetype": "text/x-python",
   "name": "python",
   "nbconvert_exporter": "python",
   "pygments_lexer": "ipython3",
   "version": "3.8.18"
  }
 },
 "nbformat": 4,
 "nbformat_minor": 2
}
